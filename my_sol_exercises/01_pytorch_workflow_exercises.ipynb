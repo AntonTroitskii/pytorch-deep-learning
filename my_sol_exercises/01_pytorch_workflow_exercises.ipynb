{
  "cells": [
    {
      "cell_type": "markdown",
      "metadata": {
        "colab_type": "text",
        "id": "view-in-github"
      },
      "source": [
        "<a href=\"https://colab.research.google.com/github/mrdbourke/pytorch-deep-learning/blob/main/extras/exercises/01_pytorch_workflow_exercises.ipynb\" target=\"_parent\"><img src=\"https://colab.research.google.com/assets/colab-badge.svg\" alt=\"Open In Colab\"/></a>"
      ]
    },
    {
      "cell_type": "markdown",
      "metadata": {
        "id": "N8LsPXZti9Sw"
      },
      "source": [
        "# 01. PyTorch Workflow Exercise Template\n",
        "\n",
        "The following is a template for the PyTorch workflow exercises.\n",
        "\n",
        "It's only starter code and it's your job to fill in the blanks.\n",
        "\n",
        "Because of the flexibility of PyTorch, there may be more than one way to answer the question.\n",
        "\n",
        "Don't worry about trying to be *right* just try writing code that suffices the question.\n",
        "\n",
        "You can see one form of [solutions on GitHub](https://github.com/mrdbourke/pytorch-deep-learning/tree/main/extras/solutions) (but try the exercises below yourself first!)."
      ]
    },
    {
      "cell_type": "code",
      "execution_count": 1,
      "metadata": {
        "id": "Glu2fM4dkNlx"
      },
      "outputs": [
        {
          "ename": "OSError",
          "evalue": "[WinError 126] Не найден указанный модуль. Error loading \"c:\\Users\\anton\\.virtualenvs\\02_pytorch-deep-learning_-h6pQU_fa\\lib\\site-packages\\torch\\lib\\fbgemm.dll\" or one of its dependencies.",
          "output_type": "error",
          "traceback": [
            "\u001b[1;31m---------------------------------------------------------------------------\u001b[0m",
            "\u001b[1;31mOSError\u001b[0m                                   Traceback (most recent call last)",
            "Cell \u001b[1;32mIn[1], line 2\u001b[0m\n\u001b[0;32m      1\u001b[0m \u001b[38;5;66;03m# Import necessary libraries\u001b[39;00m\n\u001b[1;32m----> 2\u001b[0m \u001b[38;5;28;01mimport\u001b[39;00m \u001b[38;5;21;01mtorch\u001b[39;00m\n\u001b[0;32m      3\u001b[0m \u001b[38;5;28;01mfrom\u001b[39;00m \u001b[38;5;21;01mtorch\u001b[39;00m \u001b[38;5;28;01mimport\u001b[39;00m nn\n\u001b[0;32m      4\u001b[0m \u001b[38;5;28;01mimport\u001b[39;00m \u001b[38;5;21;01mmatplotlib\u001b[39;00m\u001b[38;5;21;01m.\u001b[39;00m\u001b[38;5;21;01mpyplot\u001b[39;00m \u001b[38;5;28;01mas\u001b[39;00m \u001b[38;5;21;01mplt\u001b[39;00m\n",
            "File \u001b[1;32mc:\\Users\\anton\\.virtualenvs\\02_pytorch-deep-learning_-h6pQU_fa\\lib\\site-packages\\torch\\__init__.py:141\u001b[0m\n\u001b[0;32m    139\u001b[0m                 err \u001b[38;5;241m=\u001b[39m ctypes\u001b[38;5;241m.\u001b[39mWinError(ctypes\u001b[38;5;241m.\u001b[39mget_last_error())\n\u001b[0;32m    140\u001b[0m                 err\u001b[38;5;241m.\u001b[39mstrerror \u001b[38;5;241m+\u001b[39m\u001b[38;5;241m=\u001b[39m \u001b[38;5;124mf\u001b[39m\u001b[38;5;124m'\u001b[39m\u001b[38;5;124m Error loading \u001b[39m\u001b[38;5;124m\"\u001b[39m\u001b[38;5;132;01m{\u001b[39;00mdll\u001b[38;5;132;01m}\u001b[39;00m\u001b[38;5;124m\"\u001b[39m\u001b[38;5;124m or one of its dependencies.\u001b[39m\u001b[38;5;124m'\u001b[39m\n\u001b[1;32m--> 141\u001b[0m                 \u001b[38;5;28;01mraise\u001b[39;00m err\n\u001b[0;32m    143\u001b[0m     kernel32\u001b[38;5;241m.\u001b[39mSetErrorMode(prev_error_mode)\n\u001b[0;32m    146\u001b[0m \u001b[38;5;28;01mdef\u001b[39;00m \u001b[38;5;21m_preload_cuda_deps\u001b[39m(lib_folder, lib_name):\n",
            "\u001b[1;31mOSError\u001b[0m: [WinError 126] Не найден указанный модуль. Error loading \"c:\\Users\\anton\\.virtualenvs\\02_pytorch-deep-learning_-h6pQU_fa\\lib\\site-packages\\torch\\lib\\fbgemm.dll\" or one of its dependencies."
          ]
        }
      ],
      "source": [
        "# Import necessary libraries\n",
        "import torch\n",
        "from torch import nn\n",
        "import matplotlib.pyplot as plt"
      ]
    },
    {
      "cell_type": "code",
      "execution_count": null,
      "metadata": {
        "id": "LqKhXY26m31s"
      },
      "outputs": [
        {
          "data": {
            "text/plain": [
              "'cpu'"
            ]
          },
          "execution_count": 2,
          "metadata": {},
          "output_type": "execute_result"
        }
      ],
      "source": [
        "# Setup device-agnostic code\n",
        "device = \"cuda\" if torch.cuda.is_available() else \"cpu\"\n",
        "device"
      ]
    },
    {
      "cell_type": "markdown",
      "metadata": {
        "id": "g7HUhxCxjeBx"
      },
      "source": [
        "## 1. Create a straight line dataset using the linear regression formula (`weight * X + bias`).\n",
        "  * Set `weight=0.3` and `bias=0.9` there should be at least 100 datapoints total. \n",
        "  * Split the data into 80% training, 20% testing.\n",
        "  * Plot the training and testing data so it becomes visual.\n",
        "\n",
        "Your output of the below cell should look something like:\n",
        "```\n",
        "Number of X samples: 100\n",
        "Number of y samples: 100\n",
        "First 10 X & y samples:\n",
        "X: tensor([0.0000, 0.0100, 0.0200, 0.0300, 0.0400, 0.0500, 0.0600, 0.0700, 0.0800,\n",
        "        0.0900])\n",
        "y: tensor([0.9000, 0.9030, 0.9060, 0.9090, 0.9120, 0.9150, 0.9180, 0.9210, 0.9240,\n",
        "        0.9270])\n",
        "```\n",
        "\n",
        "Of course the numbers in `X` and `y` may be different but ideally they're created using the linear regression formula."
      ]
    },
    {
      "cell_type": "code",
      "execution_count": null,
      "metadata": {
        "id": "KbDG5MV7jhvE"
      },
      "outputs": [
        {
          "name": "stdout",
          "output_type": "stream",
          "text": [
            "Number of X samples: 100\n",
            "Number of y samples: 100\n",
            "First 10 X & y samples:\n",
            "X: tensor([0.0000, 0.0100, 0.0200, 0.0300, 0.0400, 0.0500, 0.0600, 0.0700, 0.0800,\n",
            "        0.0900])\n",
            "y: tensor([0.9000, 0.9030, 0.9060, 0.9090, 0.9120, 0.9150, 0.9180, 0.9210, 0.9240,\n",
            "        0.9270])\n"
          ]
        }
      ],
      "source": [
        "# Create the data parameters\n",
        "w = 0.3\n",
        "b = 0.9\n",
        "\n",
        "start, stop, step = 0, 1, 0.01\n",
        "\n",
        "X = torch.arange(start, stop, step)\n",
        "\n",
        "y = w * X + b\n",
        "\n",
        "# Make X and y using linear regression feature\n",
        "\n",
        "\n",
        "print(f\"Number of X samples: {len(X)}\")\n",
        "print(f\"Number of y samples: {len(y)}\")\n",
        "print(f\"First 10 X & y samples:\\nX: {X[:10]}\\ny: {y[:10]}\")"
      ]
    },
    {
      "cell_type": "code",
      "execution_count": null,
      "metadata": {
        "id": "GlwtT1djkmLw"
      },
      "outputs": [
        {
          "data": {
            "text/plain": [
              "(torch.Size([80]), torch.Size([80]), torch.Size([20]), torch.Size([20]))"
            ]
          },
          "execution_count": 4,
          "metadata": {},
          "output_type": "execute_result"
        }
      ],
      "source": [
        "# Split the data into training and testing\n",
        "train_scale = 0.8\n",
        "num_split = int(0.8 * len(X))\n",
        "X_train, X_test, y_train, y_test = (\n",
        "    X[:num_split],\n",
        "    X[num_split:],\n",
        "    y[:num_split],\n",
        "    y[num_split:],\n",
        ")\n",
        "X_train.shape, y_train.shape, X_test.shape, y_test.shape"
      ]
    },
    {
      "cell_type": "code",
      "execution_count": null,
      "metadata": {
        "id": "29iQZFNhlYJ-"
      },
      "outputs": [
        {
          "data": {
            "image/png": "[encoded data removed]",
            "text/plain": [
              "<Figure size 1000x500 with 1 Axes>"
            ]
          },
          "metadata": {},
          "output_type": "display_data"
        }
      ],
      "source": [
        "# Plot the training and testing data\n",
        "def plt_pred(\n",
        "    train_data=X_train,\n",
        "    train_labels=y_train,\n",
        "    test_data=X_test,\n",
        "    test_labels=y_test,\n",
        "    predictions=None,\n",
        "):\n",
        "    plt.figure(figsize=(10, 5))\n",
        "    plt.scatter(train_data, train_labels, c=\"b\", s=8, label=\"Training data\")\n",
        "    plt.scatter(test_data, test_labels, c=\"r\", s=8, label=\"Testing data\")\n",
        "\n",
        "    if predictions is not None:\n",
        "        plt.scatter(test_data, predictions, c=\"g\", s=8, label=\"Predictions\")\n",
        "\n",
        "    plt.legend()\n",
        "\n",
        "\n",
        "plt_pred()"
      ]
    },
    {
      "cell_type": "markdown",
      "metadata": {
        "id": "ImZoe3v8jif8"
      },
      "source": [
        "## 2. Build a PyTorch model by subclassing `nn.Module`. \n",
        "  * Inside should be a randomly initialized `nn.Parameter()` with `requires_grad=True`, one for `weights` and one for `bias`. \n",
        "  * Implement the `forward()` method to compute the linear regression function you used to create the dataset in 1. \n",
        "  * Once you've constructed the model, make an instance of it and check its `state_dict()`.\n",
        "  * **Note:** If you'd like to use `nn.Linear()` instead of `nn.Parameter()` you can."
      ]
    },
    {
      "cell_type": "code",
      "execution_count": null,
      "metadata": {
        "id": "qzd__Y5rjtB8"
      },
      "outputs": [],
      "source": [
        "# Create PyTorch linear regression model by subclassing nn.Module\n",
        "\n",
        "\n",
        "class LinRegrModel(torch.nn.Module):\n",
        "    def __init__(self, *args, **kwargs) -> None:\n",
        "        super().__init__(*args, **kwargs)\n",
        "\n",
        "        self.w = nn.Parameter(torch.rand(1, dtype=torch.float), requires_grad=True)\n",
        "        self.b = nn.Parameter(torch.rand(1, dtype=torch.float), requires_grad=True)\n",
        "\n",
        "    def forward(self, x: torch.tensor) -> torch.Tensor:\n",
        "        return self.w + x * self.b"
      ]
    },
    {
      "cell_type": "code",
      "execution_count": null,
      "metadata": {
        "id": "5LdcDnmOmyQ2"
      },
      "outputs": [
        {
          "data": {
            "text/plain": [
              "('cpu',\n",
              " [Parameter containing:\n",
              "  tensor([0.8823], requires_grad=True),\n",
              "  Parameter containing:\n",
              "  tensor([0.9150], requires_grad=True)])"
            ]
          },
          "execution_count": 7,
          "metadata": {},
          "output_type": "execute_result"
        }
      ],
      "source": [
        "# Instantiate the model and put it to the target device\n",
        "seed = 42\n",
        "torch.manual_seed(42)\n",
        "model0 = LinRegrModel()\n",
        "\n",
        "device, list(model0.parameters())"
      ]
    },
    {
      "cell_type": "code",
      "execution_count": null,
      "metadata": {},
      "outputs": [
        {
          "data": {
            "text/plain": [
              "Parameter containing:\n",
              "tensor([0.8823], requires_grad=True)"
            ]
          },
          "execution_count": 8,
          "metadata": {},
          "output_type": "execute_result"
        }
      ],
      "source": [
        "next(model0.parameters())"
      ]
    },
    {
      "cell_type": "markdown",
      "metadata": {
        "id": "G6nYOrJhjtfu"
      },
      "source": [
        "## 3. Create a loss function and optimizer using `nn.L1Loss()` and `torch.optim.SGD(params, lr)` respectively. \n",
        "  * Set the learning rate of the optimizer to be 0.01 and the parameters to optimize should be the model parameters from the model you created in 2.\n",
        "  * Write a training loop to perform the appropriate training steps for 300 epochs.\n",
        "  * The training loop should test the model on the test dataset every 20 epochs."
      ]
    },
    {
      "cell_type": "code",
      "execution_count": null,
      "metadata": {
        "id": "ltvoZ-FWjv1j"
      },
      "outputs": [
        {
          "data": {
            "image/png": "[encoded data removed]",
            "text/plain": [
              "<Figure size 1000x500 with 1 Axes>"
            ]
          },
          "metadata": {},
          "output_type": "display_data"
        }
      ],
      "source": [
        "# Create the loss function and optimizer\n",
        "lr = 0.01\n",
        "loss_fn = nn.L1Loss()\n",
        "opt = torch.optim.SGD(params=model0.parameters(), lr=lr)\n",
        "\n",
        "with torch.inference_mode():\n",
        "    y_pred = model0(X_test)\n",
        "    plt_pred(predictions=y_pred)"
      ]
    },
    {
      "cell_type": "code",
      "execution_count": null,
      "metadata": {},
      "outputs": [
        {
          "name": "stdout",
          "output_type": "stream",
          "text": [
            "cpu\n",
            "cpu\n",
            "cpu\n",
            "cpu\n"
          ]
        }
      ],
      "source": [
        "for i in [X_train, X_test, y_train, y_test]:\n",
        "    print(i.device)"
      ]
    },
    {
      "cell_type": "code",
      "execution_count": null,
      "metadata": {
        "id": "xpE83NvNnkdV"
      },
      "outputs": [
        {
          "name": "stdout",
          "output_type": "stream",
          "text": [
            "Epoch: 0 | Train loss: 0.533 | Test loss: 0.515\n",
            "Epoch: 20 | Train loss: 0.172 | Test loss: 0.154\n",
            "Epoch: 40 | Train loss: 0.017 | Test loss: 0.017\n",
            "Epoch: 60 | Train loss: 0.017 | Test loss: 0.017\n",
            "Epoch: 80 | Train loss: 0.017 | Test loss: 0.017\n",
            "Epoch: 100 | Train loss: 0.016 | Test loss: 0.017\n",
            "Epoch: 120 | Train loss: 0.016 | Test loss: 0.016\n",
            "Epoch: 140 | Train loss: 0.016 | Test loss: 0.016\n",
            "Epoch: 160 | Train loss: 0.016 | Test loss: 0.016\n",
            "Epoch: 180 | Train loss: 0.015 | Test loss: 0.015\n",
            "Epoch: 200 | Train loss: 0.015 | Test loss: 0.015\n",
            "Epoch: 220 | Train loss: 0.015 | Test loss: 0.015\n",
            "Epoch: 240 | Train loss: 0.015 | Test loss: 0.015\n",
            "Epoch: 260 | Train loss: 0.014 | Test loss: 0.014\n",
            "Epoch: 280 | Train loss: 0.014 | Test loss: 0.014\n",
            "Epoch: 300 | Train loss: 0.014 | Test loss: 0.014\n",
            "Epoch: 320 | Train loss: 0.013 | Test loss: 0.013\n",
            "Epoch: 340 | Train loss: 0.013 | Test loss: 0.013\n",
            "Epoch: 360 | Train loss: 0.013 | Test loss: 0.013\n",
            "Epoch: 380 | Train loss: 0.013 | Test loss: 0.013\n",
            "Epoch: 400 | Train loss: 0.012 | Test loss: 0.012\n",
            "Epoch: 420 | Train loss: 0.012 | Test loss: 0.012\n",
            "Epoch: 440 | Train loss: 0.012 | Test loss: 0.012\n",
            "Epoch: 460 | Train loss: 0.012 | Test loss: 0.012\n",
            "Epoch: 480 | Train loss: 0.011 | Test loss: 0.011\n",
            "Epoch: 500 | Train loss: 0.011 | Test loss: 0.011\n",
            "Epoch: 520 | Train loss: 0.011 | Test loss: 0.011\n",
            "Epoch: 540 | Train loss: 0.010 | Test loss: 0.010\n",
            "Epoch: 560 | Train loss: 0.010 | Test loss: 0.010\n",
            "Epoch: 580 | Train loss: 0.010 | Test loss: 0.010\n",
            "Epoch: 600 | Train loss: 0.010 | Test loss: 0.010\n",
            "Epoch: 620 | Train loss: 0.009 | Test loss: 0.009\n",
            "Epoch: 640 | Train loss: 0.009 | Test loss: 0.009\n",
            "Epoch: 660 | Train loss: 0.009 | Test loss: 0.009\n",
            "Epoch: 680 | Train loss: 0.008 | Test loss: 0.008\n",
            "Epoch: 700 | Train loss: 0.008 | Test loss: 0.008\n",
            "Epoch: 720 | Train loss: 0.008 | Test loss: 0.008\n",
            "Epoch: 740 | Train loss: 0.008 | Test loss: 0.008\n",
            "Epoch: 760 | Train loss: 0.007 | Test loss: 0.007\n",
            "Epoch: 780 | Train loss: 0.007 | Test loss: 0.007\n",
            "Epoch: 800 | Train loss: 0.007 | Test loss: 0.007\n",
            "Epoch: 820 | Train loss: 0.007 | Test loss: 0.007\n",
            "Epoch: 840 | Train loss: 0.006 | Test loss: 0.006\n",
            "Epoch: 860 | Train loss: 0.006 | Test loss: 0.006\n",
            "Epoch: 880 | Train loss: 0.006 | Test loss: 0.006\n",
            "Epoch: 900 | Train loss: 0.005 | Test loss: 0.005\n",
            "Epoch: 920 | Train loss: 0.005 | Test loss: 0.005\n",
            "Epoch: 940 | Train loss: 0.005 | Test loss: 0.005\n",
            "Epoch: 960 | Train loss: 0.005 | Test loss: 0.005\n",
            "Epoch: 980 | Train loss: 0.006 | Test loss: 0.006\n",
            "Epoch: 1000 | Train loss: 0.009 | Test loss: 0.009\n",
            "Epoch: 1020 | Train loss: 0.009 | Test loss: 0.009\n",
            "Epoch: 1040 | Train loss: 0.009 | Test loss: 0.009\n",
            "Epoch: 1060 | Train loss: 0.009 | Test loss: 0.009\n",
            "Epoch: 1080 | Train loss: 0.009 | Test loss: 0.009\n",
            "Epoch: 1100 | Train loss: 0.009 | Test loss: 0.009\n",
            "Epoch: 1120 | Train loss: 0.009 | Test loss: 0.009\n",
            "Epoch: 1140 | Train loss: 0.009 | Test loss: 0.009\n",
            "Epoch: 1160 | Train loss: 0.009 | Test loss: 0.009\n",
            "Epoch: 1180 | Train loss: 0.009 | Test loss: 0.009\n",
            "Epoch: 1200 | Train loss: 0.009 | Test loss: 0.009\n",
            "Epoch: 1220 | Train loss: 0.009 | Test loss: 0.009\n",
            "Epoch: 1240 | Train loss: 0.009 | Test loss: 0.009\n",
            "Epoch: 1260 | Train loss: 0.009 | Test loss: 0.009\n",
            "Epoch: 1280 | Train loss: 0.009 | Test loss: 0.009\n",
            "Epoch: 1300 | Train loss: 0.009 | Test loss: 0.009\n",
            "Epoch: 1320 | Train loss: 0.009 | Test loss: 0.009\n",
            "Epoch: 1340 | Train loss: 0.009 | Test loss: 0.009\n",
            "Epoch: 1360 | Train loss: 0.009 | Test loss: 0.009\n",
            "Epoch: 1380 | Train loss: 0.009 | Test loss: 0.009\n",
            "Epoch: 1400 | Train loss: 0.009 | Test loss: 0.009\n",
            "Epoch: 1420 | Train loss: 0.009 | Test loss: 0.009\n",
            "Epoch: 1440 | Train loss: 0.009 | Test loss: 0.009\n",
            "Epoch: 1460 | Train loss: 0.009 | Test loss: 0.009\n",
            "Epoch: 1480 | Train loss: 0.009 | Test loss: 0.009\n",
            "Epoch: 1500 | Train loss: 0.009 | Test loss: 0.009\n",
            "Epoch: 1520 | Train loss: 0.009 | Test loss: 0.009\n",
            "Epoch: 1540 | Train loss: 0.009 | Test loss: 0.009\n",
            "Epoch: 1560 | Train loss: 0.009 | Test loss: 0.009\n",
            "Epoch: 1580 | Train loss: 0.009 | Test loss: 0.009\n",
            "Epoch: 1600 | Train loss: 0.009 | Test loss: 0.009\n",
            "Epoch: 1620 | Train loss: 0.009 | Test loss: 0.009\n",
            "Epoch: 1640 | Train loss: 0.009 | Test loss: 0.009\n",
            "Epoch: 1660 | Train loss: 0.009 | Test loss: 0.009\n",
            "Epoch: 1680 | Train loss: 0.009 | Test loss: 0.009\n",
            "Epoch: 1700 | Train loss: 0.009 | Test loss: 0.009\n",
            "Epoch: 1720 | Train loss: 0.009 | Test loss: 0.009\n",
            "Epoch: 1740 | Train loss: 0.009 | Test loss: 0.009\n",
            "Epoch: 1760 | Train loss: 0.009 | Test loss: 0.009\n",
            "Epoch: 1780 | Train loss: 0.009 | Test loss: 0.009\n",
            "Epoch: 1800 | Train loss: 0.009 | Test loss: 0.009\n",
            "Epoch: 1820 | Train loss: 0.009 | Test loss: 0.009\n",
            "Epoch: 1840 | Train loss: 0.009 | Test loss: 0.009\n",
            "Epoch: 1860 | Train loss: 0.009 | Test loss: 0.009\n",
            "Epoch: 1880 | Train loss: 0.009 | Test loss: 0.009\n",
            "Epoch: 1900 | Train loss: 0.009 | Test loss: 0.009\n",
            "Epoch: 1920 | Train loss: 0.009 | Test loss: 0.009\n",
            "Epoch: 1940 | Train loss: 0.009 | Test loss: 0.009\n",
            "Epoch: 1960 | Train loss: 0.009 | Test loss: 0.009\n",
            "Epoch: 1980 | Train loss: 0.009 | Test loss: 0.009\n",
            "Epoch: 2000 | Train loss: 0.009 | Test loss: 0.009\n",
            "Epoch: 2020 | Train loss: 0.009 | Test loss: 0.009\n",
            "Epoch: 2040 | Train loss: 0.009 | Test loss: 0.009\n",
            "Epoch: 2060 | Train loss: 0.009 | Test loss: 0.009\n",
            "Epoch: 2080 | Train loss: 0.009 | Test loss: 0.009\n",
            "Epoch: 2100 | Train loss: 0.009 | Test loss: 0.009\n",
            "Epoch: 2120 | Train loss: 0.009 | Test loss: 0.009\n",
            "Epoch: 2140 | Train loss: 0.009 | Test loss: 0.009\n",
            "Epoch: 2160 | Train loss: 0.009 | Test loss: 0.009\n",
            "Epoch: 2180 | Train loss: 0.009 | Test loss: 0.009\n",
            "Epoch: 2200 | Train loss: 0.009 | Test loss: 0.009\n",
            "Epoch: 2220 | Train loss: 0.009 | Test loss: 0.009\n",
            "Epoch: 2240 | Train loss: 0.009 | Test loss: 0.009\n",
            "Epoch: 2260 | Train loss: 0.009 | Test loss: 0.009\n",
            "Epoch: 2280 | Train loss: 0.009 | Test loss: 0.009\n",
            "Epoch: 2300 | Train loss: 0.009 | Test loss: 0.009\n",
            "Epoch: 2320 | Train loss: 0.009 | Test loss: 0.009\n",
            "Epoch: 2340 | Train loss: 0.009 | Test loss: 0.009\n",
            "Epoch: 2360 | Train loss: 0.009 | Test loss: 0.009\n",
            "Epoch: 2380 | Train loss: 0.009 | Test loss: 0.009\n",
            "Epoch: 2400 | Train loss: 0.009 | Test loss: 0.009\n",
            "Epoch: 2420 | Train loss: 0.009 | Test loss: 0.009\n",
            "Epoch: 2440 | Train loss: 0.009 | Test loss: 0.009\n",
            "Epoch: 2460 | Train loss: 0.009 | Test loss: 0.009\n",
            "Epoch: 2480 | Train loss: 0.009 | Test loss: 0.009\n",
            "Epoch: 2500 | Train loss: 0.009 | Test loss: 0.009\n",
            "Epoch: 2520 | Train loss: 0.009 | Test loss: 0.009\n",
            "Epoch: 2540 | Train loss: 0.009 | Test loss: 0.009\n",
            "Epoch: 2560 | Train loss: 0.009 | Test loss: 0.009\n",
            "Epoch: 2580 | Train loss: 0.009 | Test loss: 0.009\n",
            "Epoch: 2600 | Train loss: 0.009 | Test loss: 0.009\n",
            "Epoch: 2620 | Train loss: 0.009 | Test loss: 0.009\n",
            "Epoch: 2640 | Train loss: 0.009 | Test loss: 0.009\n",
            "Epoch: 2660 | Train loss: 0.009 | Test loss: 0.009\n",
            "Epoch: 2680 | Train loss: 0.009 | Test loss: 0.009\n",
            "Epoch: 2700 | Train loss: 0.009 | Test loss: 0.009\n",
            "Epoch: 2720 | Train loss: 0.009 | Test loss: 0.009\n",
            "Epoch: 2740 | Train loss: 0.009 | Test loss: 0.009\n",
            "Epoch: 2760 | Train loss: 0.009 | Test loss: 0.009\n",
            "Epoch: 2780 | Train loss: 0.009 | Test loss: 0.009\n",
            "Epoch: 2800 | Train loss: 0.009 | Test loss: 0.009\n",
            "Epoch: 2820 | Train loss: 0.009 | Test loss: 0.009\n",
            "Epoch: 2840 | Train loss: 0.009 | Test loss: 0.009\n",
            "Epoch: 2860 | Train loss: 0.009 | Test loss: 0.009\n",
            "Epoch: 2880 | Train loss: 0.009 | Test loss: 0.009\n",
            "Epoch: 2900 | Train loss: 0.009 | Test loss: 0.009\n",
            "Epoch: 2920 | Train loss: 0.009 | Test loss: 0.009\n",
            "Epoch: 2940 | Train loss: 0.009 | Test loss: 0.009\n",
            "Epoch: 2960 | Train loss: 0.009 | Test loss: 0.009\n",
            "Epoch: 2980 | Train loss: 0.009 | Test loss: 0.009\n"
          ]
        }
      ],
      "source": [
        "# Training loop\n",
        "\n",
        "torch.manual_seed(42)\n",
        "\n",
        "# Train model for 300 epochs\n",
        "epochs = 3000\n",
        "\n",
        "# Send data to target device\n",
        "X_train = X_train.to(device)\n",
        "X_test = X_test.to(device)\n",
        "y_train = y_train.to(device)\n",
        "y_test = y_test.to(device)\n",
        "\n",
        "for epoch in range(epochs):\n",
        "    # Training\n",
        "\n",
        "    # Put model in train mode\n",
        "    model0.train()\n",
        "\n",
        "    # 1. Forward pass\n",
        "    y_pred = model0(X_test)\n",
        "\n",
        "    # 2. Calculate loss\n",
        "    loss = loss_fn(y_pred, y_test)\n",
        "\n",
        "    # 3. Zero gradients\n",
        "    opt.zero_grad()\n",
        "\n",
        "    # 4. Backpropagation\n",
        "    loss.backward()\n",
        "\n",
        "    # 5. Step the optimizer\n",
        "    opt.step()\n",
        "\n",
        "    # Perform testing every 20 epochs\n",
        "    if epoch % 20 == 0:\n",
        "\n",
        "        # Put model in evaluation mode and setup inference context\n",
        "        with torch.inference_mode():\n",
        "\n",
        "            # 1. Forward pass\n",
        "            test_pred = model0(X_test)\n",
        "\n",
        "            # 2. Calculate test loss\n",
        "            test_loss = loss_fn(test_pred, y_test.type(torch.float))\n",
        "            # Print out what's happening\n",
        "            print(\n",
        "                f\"Epoch: {epoch} | Train loss: {loss:.3f} | Test loss: {test_loss:.3f}\"\n",
        "            )"
      ]
    },
    {
      "cell_type": "markdown",
      "metadata": {
        "id": "x4j4TM18jwa7"
      },
      "source": [
        "## 4. Make predictions with the trained model on the test data.\n",
        "  * Visualize these predictions against the original training and testing data (**note:** you may need to make sure the predictions are *not* on the GPU if you want to use non-CUDA-enabled libraries such as matplotlib to plot)."
      ]
    },
    {
      "cell_type": "code",
      "execution_count": null,
      "metadata": {
        "id": "bbMPK5Qjjyx_"
      },
      "outputs": [
        {
          "data": {
            "image/png": "[encoded data removed]",
            "text/plain": [
              "<Figure size 1000x500 with 1 Axes>"
            ]
          },
          "metadata": {},
          "output_type": "display_data"
        }
      ],
      "source": [
        "# Make predictions with the model\n",
        "model0.eval()\n",
        "with torch.inference_mode():\n",
        "    y_pred = model0(X_test)\n",
        "\n",
        "# Plot the predictions (these may need to be on a specific device)\n",
        "plt_pred(predictions=y_pred)"
      ]
    },
    {
      "cell_type": "markdown",
      "metadata": {
        "id": "s2OnlMWKjzX8"
      },
      "source": [
        "## 5. Save your trained model's `state_dict()` to file.\n",
        "  * Create a new instance of your model class you made in 2. and load in the `state_dict()` you just saved to it.\n",
        "  * Perform predictions on your test data with the loaded model and confirm they match the original model predictions from 4."
      ]
    },
    {
      "cell_type": "code",
      "execution_count": null,
      "metadata": {
        "id": "hgxhgD14qr-i"
      },
      "outputs": [
        {
          "name": "stdout",
          "output_type": "stream",
          "text": [
            "Saving model to: models\\01_lin_regr_model_0.pth\n"
          ]
        }
      ],
      "source": [
        "from pathlib import Path\n",
        "\n",
        "# 1. Create models directory\n",
        "MODEL_PATH = Path(\"models\")\n",
        "MODEL_PATH.mkdir(parents=True, exist_ok=True)\n",
        "# 2. Create model save path\n",
        "MODEL_NAME = \"01_lin_regr_model_0.pth\"\n",
        "MODEL_SAVE_PATH = MODEL_PATH / MODEL_NAME\n",
        "# 3. Save the model state dict\n",
        "print(f\"Saving model to: {MODEL_SAVE_PATH}\")\n",
        "torch.save(obj=model0.state_dict(), f=MODEL_SAVE_PATH)"
      ]
    },
    {
      "cell_type": "code",
      "execution_count": null,
      "metadata": {
        "id": "P9vTgiLRrJ7T"
      },
      "outputs": [
        {
          "data": {
            "text/plain": [
              "<All keys matched successfully>"
            ]
          },
          "execution_count": 14,
          "metadata": {},
          "output_type": "execute_result"
        }
      ],
      "source": [
        "# Create new instance of model and load saved state dict (make sure to put it on the target device)\n",
        "\n",
        "model_load = LinRegrModel()\n",
        "model_load.load_state_dict(torch.load(f=MODEL_SAVE_PATH))"
      ]
    },
    {
      "cell_type": "code",
      "execution_count": null,
      "metadata": {
        "id": "8UGX3VebrVtI"
      },
      "outputs": [
        {
          "data": {
            "text/plain": [
              "tensor(0.)"
            ]
          },
          "execution_count": 15,
          "metadata": {},
          "output_type": "execute_result"
        }
      ],
      "source": [
        "# Make predictions with loaded model and compare them to the previous\n",
        "model_load.eval()\n",
        "with torch.inference_mode():\n",
        "    y_pred_load = model_load(X_test)\n",
        "\n",
        "loss_fn(y_pred, y_pred_load)"
      ]
    }
  ],
  "metadata": {
    "accelerator": "GPU",
    "colab": {
      "authorship_tag": "ABX9TyNYzatJtFkfUqqdiR6rYwVL",
      "collapsed_sections": [],
      "include_colab_link": true,
      "name": "01_pytorch_workflow_exercises.ipynb",
      "provenance": []
    },
    "kernelspec": {
      "display_name": "Python 3",
      "name": "python3"
    },
    "language_info": {
      "codemirror_mode": {
        "name": "ipython",
        "version": 3
      },
      "file_extension": ".py",
      "mimetype": "text/x-python",
      "name": "python",
      "nbconvert_exporter": "python",
      "pygments_lexer": "ipython3",
      "version": "3.9.9"
    }
  },
  "nbformat": 4,
  "nbformat_minor": 0
}
