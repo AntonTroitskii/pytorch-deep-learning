{
 "cells": [
  {
   "cell_type": "code",
   "execution_count": 6,
   "metadata": {},
   "outputs": [
    {
     "name": "stdout",
     "output_type": "stream",
     "text": [
      "my_data\\my_pizza_steak_sushi exists\n"
     ]
    }
   ],
   "source": [
    "from pathlib import Path\n",
    "import zipfile\n",
    "import requests\n",
    "\n",
    "# 1. Get data\n",
    "\n",
    "my_data_path = Path('my_data')\n",
    "\n",
    "images_path = my_data_path / 'my_pizza_steak_sushi'\n",
    "zip_name = 'my_pizza_steak_sushi.zip'\n",
    "\n",
    "if images_path.is_dir():\n",
    "    print(f'{images_path} exists')\n",
    "else:\n",
    "    print(f'Can\\'t find {images_path}, I will create one ...')\n",
    "    images_path.mkdir(parents=True, exist_ok=True)\n",
    "\n",
    "    with open(my_data_path / zip_name, 'wb') as f:\n",
    "        request = requests.get(\"https://github.com/mrdbourke/pytorch-deep-learning/raw/main/data/pizza_steak_sushi.zip\")\n",
    "        print('downloading files ...')\n",
    "        f.write(request.content)\n",
    "\n",
    "    with zipfile.ZipFile(my_data_path / zip_name) as f:\n",
    "        print('Unzippping data ...')\n",
    "        f.extractall(images_path)"
   ]
  },
  {
   "cell_type": "code",
   "execution_count": 7,
   "metadata": {},
   "outputs": [
    {
     "name": "stdout",
     "output_type": "stream",
     "text": [
      "There are 2 directories and 0 images in 'my_data\\my_pizza_steak_sushi'.\n",
      "There are 3 directories and 0 images in 'my_data\\my_pizza_steak_sushi\\test'.\n",
      "There are 0 directories and 25 images in 'my_data\\my_pizza_steak_sushi\\test\\pizza'.\n",
      "There are 0 directories and 19 images in 'my_data\\my_pizza_steak_sushi\\test\\steak'.\n",
      "There are 0 directories and 31 images in 'my_data\\my_pizza_steak_sushi\\test\\sushi'.\n",
      "There are 3 directories and 0 images in 'my_data\\my_pizza_steak_sushi\\train'.\n",
      "There are 0 directories and 78 images in 'my_data\\my_pizza_steak_sushi\\train\\pizza'.\n",
      "There are 0 directories and 75 images in 'my_data\\my_pizza_steak_sushi\\train\\steak'.\n",
      "There are 0 directories and 72 images in 'my_data\\my_pizza_steak_sushi\\train\\sushi'.\n"
     ]
    }
   ],
   "source": [
    "# 2. Become one with the data\n",
    "import os\n",
    "def walk_through_dir(dir_path):\n",
    "  \"\"\"Walks through dir_path returning file counts of its contents.\"\"\"\n",
    "  for dirpath, dirnames, filenames in os.walk(dir_path):\n",
    "    print(f\"There are {len(dirnames)} directories and {len(filenames)} images in '{dirpath}'.\")\n",
    "\n",
    "walk_through_dir(images_path)"
   ]
  },
  {
   "cell_type": "code",
   "execution_count": 8,
   "metadata": {},
   "outputs": [
    {
     "data": {
      "text/plain": [
       "(WindowsPath('my_data/my_pizza_steak_sushi/train'),\n",
       " WindowsPath('my_data/my_pizza_steak_sushi/test'))"
      ]
     },
     "execution_count": 8,
     "metadata": {},
     "output_type": "execute_result"
    }
   ],
   "source": [
    "# Setup train and testing paths\n",
    "\n",
    "train_path = images_path / 'train'\n",
    "test_path = images_path / 'test'\n",
    "\n",
    "train_path, test_path"
   ]
  },
  {
   "cell_type": "code",
   "execution_count": 9,
   "metadata": {},
   "outputs": [],
   "source": [
    "# Write transform for turning images into tensors\n",
    "\n",
    "from torchvision import transforms\n",
    "\n",
    "data_transform = transforms.Compose([\n",
    "    transforms.Resize(size=(64, 64)),\n",
    "    transforms.RandomHorizontalFlip(p=0.5),\n",
    "    transforms.ToTensor()\n",
    "])"
   ]
  },
  {
   "cell_type": "code",
   "execution_count": 10,
   "metadata": {},
   "outputs": [],
   "source": [
    "# Use ImageFolder to create dataset(s)\n",
    "from torchvision import datasets\n",
    "\n",
    "train_data = datasets.ImageFolder(train_path, data_transform, target_transform=None)\n",
    "test_data = datasets.ImageFolder(test_path, data_transform)"
   ]
  },
  {
   "cell_type": "code",
   "execution_count": 11,
   "metadata": {},
   "outputs": [],
   "source": [
    "# Turn train and test Datasets into DataLoaders\n",
    "from torch.utils.data import DataLoader\n",
    "\n",
    "train_dataloader = DataLoader(train_data, batch_size=1, num_workers=0, shuffle=True)\n",
    "test_dataloader = DataLoader(test_data, batch_size=1, num_workers=0, shuffle=False)"
   ]
  },
  {
   "cell_type": "code",
   "execution_count": 13,
   "metadata": {},
   "outputs": [
    {
     "name": "stdout",
     "output_type": "stream",
     "text": [
      "x.shape: torch.Size([1, 3, 64, 64])\n",
      "conv1(x).shape: torch.Size([1, 10, 64, 64])\n",
      "relu(conv1(x)).shape: torch.Size([1, 10, 64, 64])\n",
      "conv2(relu(conv1(x))).shape: torch.Size([1, 10, 64, 64])\n",
      "max_pool1(conv2(relu(conv1(x)))).shape: torch.Size([1, 10, 64, 64])\n"
     ]
    }
   ],
   "source": [
    "import torch\n",
    "from torch import nn\n",
    "\n",
    "input_shape = 3\n",
    "hidden_units = 10\n",
    "x, y = next(iter(train_dataloader))\n",
    "\n",
    "conv_block_1 = nn.Sequential(\n",
    "    nn.Conv2d(in_channels=input_shape,\n",
    "              out_channels=hidden_units,\n",
    "              kernel_size=3,  # how big is the square that's going over the image?\n",
    "              stride=1,  # default\n",
    "              padding=1),  # options = \"valid\" (no padding) or \"same\" (output has same shape as input) or int for specific number\n",
    "    nn.ReLU(),\n",
    "    nn.Conv2d(in_channels=hidden_units,\n",
    "              out_channels=hidden_units,\n",
    "              kernel_size=3,\n",
    "              stride=1,\n",
    "              padding=1),\n",
    "    nn.ReLU(),\n",
    "    nn.MaxPool2d(kernel_size=2,\n",
    "                 stride=2)  # default stride value is same as kernel_size\n",
    ")\n",
    "\n",
    "conv1 = nn.Conv2d(in_channels=input_shape, out_channels=hidden_units, kernel_size=3, stride=1, padding=1)\n",
    "conv2 = nn.Conv2d(in_channels=hidden_units, out_channels=hidden_units, kernel_size=3, stride=1, padding=1)\n",
    "relu = nn.ReLU()\n",
    "max_pool1 = nn.MaxPool2d(kernel_size=1) \n",
    "\n",
    "def print_shape(val, name):\n",
    "    print(f'{name}.shape: {val.shape}')\n",
    "\n",
    "print_shape(x, 'x')\n",
    "\n",
    "conv1_res = conv1(x)\n",
    "print_shape(conv1_res, 'conv1(x)')\n",
    "\n",
    "relu1_res = relu(conv1_res)\n",
    "print_shape(relu1_res, 'relu(conv1(x))')\n",
    "\n",
    "conv2_res = conv2(relu1_res)\n",
    "print_shape(conv2_res, 'conv2(relu(conv1(x)))')\n",
    "\n",
    "max_pool1_res = max_pool1(conv2_res)\n",
    "print_shape(max_pool1_res, 'max_pool1(conv2(relu(conv1(x))))')"
   ]
  }
 ],
 "metadata": {
  "kernelspec": {
   "display_name": "02_pythorch-deep-learning-course-PstS3IoM",
   "language": "python",
   "name": "python3"
  },
  "language_info": {
   "codemirror_mode": {
    "name": "ipython",
    "version": 3
   },
   "file_extension": ".py",
   "mimetype": "text/x-python",
   "name": "python",
   "nbconvert_exporter": "python",
   "pygments_lexer": "ipython3",
   "version": "3.9.4"
  }
 },
 "nbformat": 4,
 "nbformat_minor": 2
}
